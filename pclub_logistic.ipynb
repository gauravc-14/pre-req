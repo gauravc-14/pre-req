{
 "cells": [
  {
   "cell_type": "code",
   "execution_count": 42,
   "id": "25681142",
   "metadata": {
    "scrolled": true
   },
   "outputs": [],
   "source": [
    "import pandas as pd\n",
    "import numpy as np\n",
    "import matplotlib.pyplot as plt\n",
    "\n",
    "\n",
    "dataset = pd.read_csv(\"diabetes2.csv\")\n",
    "\n",
    "X=dataset.iloc[1:,0:8].values\n",
    "Y=dataset.iloc[1:,8:].values\n",
    "\n",
    "\n",
    "b = np.zeros((X.shape[0],1))\n",
    "\n",
    "X_new = np.append(arr=b, values=X, axis=1)\n"
   ]
  },
  {
   "cell_type": "code",
   "execution_count": 43,
   "id": "b292217f",
   "metadata": {},
   "outputs": [
    {
     "output_type": "stream",
     "name": "stdout",
     "text": [
      "2571305224.9414673\n282438363937875.2\n3.1239332422524748e+19\n3.4565273380486917e+24\n3.8246066991552644e+29\n4.2318865963202445e+34\n4.6825377276808055e+39\n5.181178450129208e+44\n5.732919134348e+49\n6.34341436366288e+54\naccuracy in %: 5.510881462615118e+26\n"
     ]
    }
   ],
   "source": [
    "from sklearn.model_selection import train_test_split\n",
    "\n",
    "x_train, x_test, y_train, y_test = train_test_split(X_new, Y, test_size = 0.2, random_state = 5)\n",
    "\n",
    "\n",
    "j=x_train.shape[1]\n",
    "\n",
    "theta =np.zeros((j,1))\n",
    "\n",
    "def sigmoid(z):\n",
    "    g = np.zeros(shape(z))\n",
    "    g = 1./(1+np.exp(-z))\n",
    "    \n",
    "    return g\n",
    "    \n",
    "def cal_cost(theta,X,y):\n",
    "    m=len(y)\n",
    "    predictions=X.dot(theta)\n",
    "    cost=(1/2*m)*np.sum(np.square(predictions-y))\n",
    "    return cost\n",
    "    \n",
    "\n",
    "def gradient_descent(x_train,y_train,theta,learning_rate=0.01,iterations=10):\n",
    "    m=len(y_train)\n",
    "    \n",
    "    for it in range(iterations):\n",
    "        \n",
    "        prediction=np.dot(x_train,theta)\n",
    "        theta=theta-(1/m)*learning_rate*(x_train.T.dot((prediction-y_train)))\n",
    "        cost_function=cal_cost(theta,x_train,y_train)\n",
    "        print(cost_function)\n",
    "        \n",
    "    return theta\n",
    "\n",
    "final_theta= gradient_descent(x_train,y_train,theta,learning_rate=0.01,iterations=10)\n",
    "\n",
    "n=len(y_test)\n",
    "\n",
    "error=(np.sum((np.dot(x_test,final_theta)-y_test))/n)\n",
    "accuracy=(1-error)*100\n",
    "\n",
    "print(\"accuracy in %:\", accuracy)"
   ]
  },
  {
   "cell_type": "code",
   "execution_count": null,
   "metadata": {},
   "outputs": [],
   "source": []
  }
 ],
 "metadata": {
  "kernelspec": {
   "name": "python385jvsc74a57bd0af94bd0208e2bb1a95590dd2fe0bda96ee334aa627acea11b3ed4f706f241278",
   "display_name": "Python 3.8.5 64-bit ('base': conda)"
  },
  "language_info": {
   "codemirror_mode": {
    "name": "ipython",
    "version": 3
   },
   "file_extension": ".py",
   "mimetype": "text/x-python",
   "name": "python",
   "nbconvert_exporter": "python",
   "pygments_lexer": "ipython3",
   "version": "3.8.5"
  }
 },
 "nbformat": 4,
 "nbformat_minor": 5
}