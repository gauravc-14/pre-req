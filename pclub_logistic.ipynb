{
 "cells": [
  {
   "cell_type": "code",
   "execution_count": 1,
   "id": "25681142",
   "metadata": {
    "scrolled": true
   },
   "outputs": [
    {
     "output_type": "error",
     "ename": "NameError",
     "evalue": "name 'x' is not defined",
     "traceback": [
      "\u001b[1;31m---------------------------------------------------------------------------\u001b[0m",
      "\u001b[1;31mNameError\u001b[0m                                 Traceback (most recent call last)",
      "\u001b[1;32m<ipython-input-1-cd66d1fa9168>\u001b[0m in \u001b[0;36m<module>\u001b[1;34m\u001b[0m\n\u001b[0;32m     10\u001b[0m \u001b[1;32mfrom\u001b[0m \u001b[0msklearn\u001b[0m\u001b[1;33m.\u001b[0m\u001b[0mmodel_selection\u001b[0m \u001b[1;32mimport\u001b[0m \u001b[0mtrain_test_split\u001b[0m\u001b[1;33m\u001b[0m\u001b[1;33m\u001b[0m\u001b[0m\n\u001b[0;32m     11\u001b[0m \u001b[1;33m\u001b[0m\u001b[0m\n\u001b[1;32m---> 12\u001b[1;33m \u001b[0mx_train\u001b[0m\u001b[1;33m,\u001b[0m \u001b[0mx_test\u001b[0m\u001b[1;33m,\u001b[0m \u001b[0my_train\u001b[0m\u001b[1;33m,\u001b[0m \u001b[0my_test\u001b[0m \u001b[1;33m=\u001b[0m \u001b[0mtrain_test_split\u001b[0m\u001b[1;33m(\u001b[0m\u001b[0mx\u001b[0m\u001b[1;33m,\u001b[0m \u001b[0my\u001b[0m\u001b[1;33m,\u001b[0m \u001b[0mtest_size\u001b[0m \u001b[1;33m=\u001b[0m \u001b[1;36m0.2\u001b[0m\u001b[1;33m,\u001b[0m \u001b[0mrandom_state\u001b[0m \u001b[1;33m=\u001b[0m \u001b[1;36m5\u001b[0m\u001b[1;33m)\u001b[0m\u001b[1;33m\u001b[0m\u001b[1;33m\u001b[0m\u001b[0m\n\u001b[0m\u001b[0;32m     13\u001b[0m \u001b[1;33m\u001b[0m\u001b[0m\n",
      "\u001b[1;31mNameError\u001b[0m: name 'x' is not defined"
     ]
    }
   ],
   "source": [
    "import pandas as pd\n",
    "import numpy as np\n",
    "import matplotlib.pyplot as plt\n",
    "\n",
    "dataset = pd.read_csv(\"diabetes2.csv\")\n",
    "\n",
    "X=dataset.iloc[1:,0:7].values\n",
    "Y=dataset.iloc[1:,8:].values\n",
    "\n",
    "from sklearn.model_selection import train_test_split\n",
    "\n",
    "x_train, x_test, y_train, y_test = train_test_split(X, Y, test_size = 0.2, random_state = 5)\n",
    "\n",
    "j=x_train.shape[1]\n",
    "\n",
    "theta =np.random.randn(j,i)\n",
    "\n",
    "def sigmoid(z):\n",
    "    g = np.zeros(shape(z))\n",
    "    g = 1./(1+np.exp(-z))\n",
    "\n",
    "def cal_cost(theta,X,y):\n",
    "    J = 0;\n",
    "\n",
    "    J=(-1/m)*(y.T*log(sigmoid(X*theta))+(1-y.T)*log(1-sigmoid(X*theta)));\n",
    "    \n",
    "    return J\n",
    "    \n",
    "\n",
    "def gradient_descent(x_train,y_train,theta,learning_rate=0.01,iterations=100):\n",
    "    m=len(y_train)\n",
    "    \n",
    "    for it in range(iterations):\n",
    "        \n",
    "        prediction=np.dot(x_train,theta)\n",
    "        theta=theta-(1/m)*learning_rate*(x_train.T.dot((prediction-y)))\n",
    "        cost_function=cal_cost(theta,x_train,y_train)\n",
    "        print(cost_function)\n",
    "        \n",
    "    return theta\n",
    "\n",
    "final_theta= gradient_descent(x_train,y_train,theta,learning_rate=0.01,iterations=100)\n",
    "\n",
    "n=len(y_test)\n",
    "\n",
    "error=((np.dot(x_test,theta)-y)/n)\n",
    "\n"
   ]
  },
  {
   "cell_type": "code",
   "execution_count": null,
   "id": "b292217f",
   "metadata": {},
   "outputs": [],
   "source": []
  }
 ],
 "metadata": {
  "kernelspec": {
   "name": "python385jvsc74a57bd0af94bd0208e2bb1a95590dd2fe0bda96ee334aa627acea11b3ed4f706f241278",
   "display_name": "Python 3.8.5 64-bit ('base': conda)"
  },
  "language_info": {
   "codemirror_mode": {
    "name": "ipython",
    "version": 3
   },
   "file_extension": ".py",
   "mimetype": "text/x-python",
   "name": "python",
   "nbconvert_exporter": "python",
   "pygments_lexer": "ipython3",
   "version": "3.8.5"
  }
 },
 "nbformat": 4,
 "nbformat_minor": 5
}
