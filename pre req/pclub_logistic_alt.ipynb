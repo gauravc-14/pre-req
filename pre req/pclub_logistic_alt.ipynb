{
 "metadata": {
  "language_info": {
   "codemirror_mode": {
    "name": "ipython",
    "version": 3
   },
   "file_extension": ".py",
   "mimetype": "text/x-python",
   "name": "python",
   "nbconvert_exporter": "python",
   "pygments_lexer": "ipython3",
   "version": "3.8.5"
  },
  "orig_nbformat": 2,
  "kernelspec": {
   "name": "python385jvsc74a57bd0af94bd0208e2bb1a95590dd2fe0bda96ee334aa627acea11b3ed4f706f241278",
   "display_name": "Python 3.8.5 64-bit ('base': conda)"
  }
 },
 "nbformat": 4,
 "nbformat_minor": 2,
 "cells": [
  {
   "cell_type": "code",
   "execution_count": 4,
   "metadata": {},
   "outputs": [],
   "source": [
    "import pandas as pd\n",
    "import numpy as np\n",
    "import matplotlib.pyplot as plt\n",
    "\n",
    "\n",
    "dataset = pd.read_csv(\"diabetes2.csv\")\n",
    "\n",
    "X=dataset.iloc[1:,0:8].values\n",
    "Y=dataset.iloc[1:,8:].values"
   ]
  },
  {
   "cell_type": "code",
   "execution_count": 10,
   "metadata": {},
   "outputs": [],
   "source": [
    "from sklearn.model_selection import train_test_split\n",
    "x_train, x_test, y_train, y_test = train_test_split(X, Y, test_size = 0.2, random_state = 5)\n",
    "\n"
   ]
  },
  {
   "cell_type": "code",
   "execution_count": 22,
   "metadata": {},
   "outputs": [
    {
     "output_type": "stream",
     "name": "stdout",
     "text": [
      "accuracy: 74.67532467532467\n"
     ]
    }
   ],
   "source": [
    "\n",
    "from sklearn.linear_model import LinearRegression\n",
    "\n",
    "regressor = LinearRegression()\n",
    "\n",
    "regressor.fit(x_train,y_train)\n",
    "\n",
    "y_pred =regressor.predict(x_test)\n",
    "\n",
    "\n",
    "low_values_flags = y_pred < 0.5  \n",
    "y_pred[low_values_flags] = 0\n",
    "\n",
    "high_values_flags = y_pred >= 0.5  \n",
    "y_pred[high_values_flags] = 1\n",
    "\n",
    "n=len(y_test)\n",
    "\n",
    "accuracy=(1-(np.sum(np.absolute(y_pred-y_test))/n))*100\n",
    "\n",
    "print(\"accuracy: \"+str(accuracy))\n"
   ]
  },
  {
   "cell_type": "code",
   "execution_count": null,
   "metadata": {},
   "outputs": [],
   "source": []
  }
 ]
}
